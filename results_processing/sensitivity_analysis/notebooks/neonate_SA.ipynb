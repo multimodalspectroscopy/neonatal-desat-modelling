{
 "cells": [
  {
   "cell_type": "code",
   "execution_count": 1,
   "metadata": {},
   "outputs": [],
   "source": [
    "import pandas as pd\n",
    "import numpy as np\n",
    "import os\n",
    "import seaborn as sns\n",
    "import matplotlib.pyplot as plt\n",
    "import pprint\n",
    "\n",
    "import matplotlib as mpl\n",
    "from PIL import Image\n",
    "from io import BytesIO\n",
    "mpl.rc('figure', dpi=400, figsize=(12,8))\n",
    "\n",
    "\n",
    "%matplotlib inline"
   ]
  },
  {
   "cell_type": "code",
   "execution_count": 2,
   "metadata": {},
   "outputs": [],
   "source": [
    "def TIFF_exporter(fig, fname, fig_dir = '.'):\n",
    "    \"\"\"\n",
    "    Parameters\n",
    "    ----------\n",
    "    fig: matplotlib figure\n",
    "    \"\"\"\n",
    "    \n",
    "    # save figure\n",
    "    # (1) save the image in memory in PNG format\n",
    "    png1 = BytesIO()\n",
    "    fig.savefig(png1, format='png', bbox_inches='tight', dpi=350)\n",
    "\n",
    "    # (2) load this image into PIL\n",
    "    png2 = Image.open(png1)\n",
    "\n",
    "    # (3) save as TIFF\n",
    "    png2.save(os.path.join(fig_dir,'{}.tiff'.format(fname)))\n",
    "    png1.close()\n",
    "    return True"
   ]
  },
  {
   "cell_type": "code",
   "execution_count": 3,
   "metadata": {},
   "outputs": [],
   "source": [
    "def data_import_and_clean(dataset):\n",
    "    df = pd.read_csv('../../../data/SA_results/{}/sensitivities.txt'.format(dataset), sep='\\t')\n",
    "    for p in (['u', 'P_a', 'SaO2sup', 'Pa_CO2', 'temp']):    \n",
    "        df = df.query(\"Parameter!='{}'\".format(p))\n",
    "    df_zero = pd.read_csv('../../../data/SA_results/{}_zero/sensitivities.txt'.format(dataset), sep='\\t')\n",
    "    for p in (['u', 'P_a', 'SaO2sup', 'Pa_CO2', 'temp']):    \n",
    "        df_zero = df_zero.query(\"Parameter!='{}'\".format(p))\n",
    "    return df, df_zero"
   ]
  },
  {
   "cell_type": "code",
   "execution_count": 4,
   "metadata": {},
   "outputs": [],
   "source": [
    "datasets = ['neo007', 'neo021']\n",
    "df_dict = {}\n",
    "df_zero_dict = {}\n",
    "for dataset in datasets:\n",
    "    df_dict[dataset], df_zero_dict[dataset] = data_import_and_clean(dataset)"
   ]
  },
  {
   "cell_type": "code",
   "execution_count": 5,
   "metadata": {},
   "outputs": [],
   "source": [
    "title_dict = {\"TOTAL\": \"all outputs\", \"CCO\": \"CCO\", \"HbT\": \"HbT\", \"Hbdiff\": \"HbD\"}\n",
    "\n",
    "def sensitivity(df, output, title_dict=None):      \n",
    "    params = [\"Parameter\", output+\"_mu_star\", output+\"_mu_star_conf\", output+\"_sigma\"]\n",
    "    sens = df[params]\n",
    "    sens = sens.rename(columns={output+\"_mu_star\": \"mu_star\", output+\"_sigma\": \"sigma\", output+\"_mu_star_conf\": \"mu_star_conf\"})\n",
    "    sens.sort_values(by=\"mu_star\", ascending=False, inplace=True)\n",
    "    sens_head = sens.head(10)\n",
    "    with sns.plotting_context(\"talk\"):\n",
    "        fig, ax = plt.subplots(nrows=1, ncols=1,figsize=(6,6))\n",
    "\n",
    "        ax.set(xscale=\"log\", yscale=\"log\")\n",
    "        plt.grid(True, linestyle=':')\n",
    "        ax = sns.scatterplot(x=\"mu_star\", y=\"sigma\", data=sens_head, ax=ax, hue=\"Parameter\")\n",
    "        ax.set_ylabel(\"$\\sigma$\")\n",
    "        ax.set_xlabel(\"$\\mu_{*}$\")\n",
    "        if title_dict:\n",
    "            ax.set_title(\"Sensitivity for {}\".format(title_dict[output]))\n",
    "\n",
    "        lgd = ax.legend(loc=\"upper right\", bbox_to_anchor=(1.55, 1))\n",
    "\n",
    "    \n",
    "    return fig, ax, lgd, sens_head"
   ]
  },
  {
   "cell_type": "code",
   "execution_count": 6,
   "metadata": {},
   "outputs": [
    {
     "name": "stdout",
     "output_type": "stream",
     "text": [
      "Working on Hbdiff in neo007 - zero\n",
      "Working on Hbdiff in neo021 - zero\n"
     ]
    }
   ],
   "source": [
    "\n",
    "sim_data_zero = {}\n",
    "outputs = [\"Hbdiff\"]\n",
    "for output in outputs:\n",
    "    sim_data_zero[output]={}\n",
    "    for dataset in datasets:\n",
    "        print(\"Working on {} in {} - zero\". format(output, dataset))\n",
    "        fig, ax, lgd, d_zero = sensitivity(df_zero_dict[dataset], output, title_dict=title_dict)\n",
    "        sim_data_zero[output][dataset]= d_zero\n",
    "plt.close('all')"
   ]
  },
  {
   "cell_type": "raw",
   "metadata": {},
   "source": []
  },
  {
   "cell_type": "code",
   "execution_count": 7,
   "metadata": {},
   "outputs": [
    {
     "data": {
      "text/plain": [
       "{'Hbdiff': {'neo007':       Parameter   mu_star  mu_star_conf     sigma\n",
       "  14         CBFn  0.371738      0.210848  0.754651\n",
       "  84          r_n  0.338535      0.205330  0.751801\n",
       "  98       Xtot_n  0.321967      0.151560  0.583836\n",
       "  87       SaO2_n  0.256164      0.159279  0.565841\n",
       "  77          phi  0.249185      0.161105  0.564374\n",
       "  18      CMRO2_n  0.231149      0.154802  0.565975\n",
       "  83          r_m  0.220206      0.176613  0.610100\n",
       "  34        k_aut  0.216409      0.161827  0.579840\n",
       "  102  Q_10_haemo  0.216172      0.179025  0.630535\n",
       "  78          r_0  0.211221      0.163804  0.557059,\n",
       "  'neo021':    Parameter   mu_star  mu_star_conf     sigma\n",
       "  63   NADpool  0.233870      0.136017  0.424866\n",
       "  98    Xtot_n  0.208728      0.074686  0.262096\n",
       "  84       r_n  0.175763      0.100469  0.378166\n",
       "  66      P_an  0.173658      0.128651  0.454074\n",
       "  6   a_frac_n  0.169508      0.162480  0.534918\n",
       "  34     k_aut  0.156757      0.094439  0.335719\n",
       "  87    SaO2_n  0.149525      0.107507  0.378123\n",
       "  78       r_0  0.126321      0.123595  0.425516\n",
       "  76     pH_on  0.118079      0.117834  0.391156\n",
       "  58       n_m  0.110169      0.083659  0.283282}}"
      ]
     },
     "execution_count": 7,
     "metadata": {},
     "output_type": "execute_result"
    }
   ],
   "source": [
    "sim_data_zero"
   ]
  },
  {
   "cell_type": "markdown",
   "metadata": {},
   "source": [
    "# Combined data #\n"
   ]
  },
  {
   "cell_type": "code",
   "execution_count": 8,
   "metadata": {},
   "outputs": [],
   "source": [
    "%%capture\n",
    "l_zero = []\n",
    "for output in outputs:\n",
    "    for k, d in sim_data_zero[output].items():\n",
    "        print(\"{} - {}\".format(output, k))\n",
    "        print(d.columns)\n",
    "        d['Dataset'] = k\n",
    "        d['Output'] = output\n",
    "        l_zero.append(d)\n",
    "                \n",
    "combined_zero = pd.concat(l_zero, sort=False)\n"
   ]
  },
  {
   "cell_type": "markdown",
   "metadata": {},
   "source": [
    "# Sensitivity Results as Scatter Plot #\n",
    "\n",
    "Here we visualise $\\mu_{*}$ again $\\sigma$ for each dataset and output for the top 30 most sensitive parameters in each grouping. \n",
    "Legends for each grap hare turned off for neatness here - we're simply looking at the relationship  between $\\mu_{*}$ and $\\sigma$ rather than what it means for a particular variable. \n",
    "\n",
    "All graphs show a roughly linear relationship with the __TOTAL__ output being clustered towards higher $\\mu_{*}$ values than the individual outputs."
   ]
  },
  {
   "cell_type": "code",
   "execution_count": 9,
   "metadata": {},
   "outputs": [
    {
     "data": {
      "text/plain": [
       "Text(0.5, 0.98, 'NaN replaced with zero')"
      ]
     },
     "execution_count": 9,
     "metadata": {},
     "output_type": "execute_result"
    },
    {
     "data": {
      "image/png": "[encoded data removed]",
      "text/plain": [
       "<Figure size 720x360 with 2 Axes>"
      ]
     },
     "metadata": {
      "needs_background": "light"
     },
     "output_type": "display_data"
    }
   ],
   "source": [
    "g = sns.FacetGrid(data=combined_zero, col='Dataset', row=\"Output\", hue=\"Parameter\", subplot_kws={\"xscale\":\"log\", \"yscale\":\"log\"}, height=5)\n",
    "g = g.map(sns.scatterplot, \"mu_star\", \"sigma\")\n",
    "g.set_xlabels(\"$\\mu_{*}$\")\n",
    "g.set_ylabels(\"$\\sigma$\")\n",
    "\n",
    "plt.subplots_adjust(top=0.8)\n",
    "g.fig.suptitle('NaN replaced with zero')"
   ]
  },
  {
   "cell_type": "markdown",
   "metadata": {},
   "source": [
    "# $\\mu_{*}$ values as a bar chart # \n",
    "\n",
    "We can look at what parameters are within the top 20 for each grouping and also at their respective values. All graphs share an x axis and so can be compared directly down columns and across rows. The x-axis is on a log scale.\n",
    "\n",
    "We see that the  __TOTAL__ output shows a small amount of drop off as the parameter becomes less sensitive than most other outputs. We also see simliar patterns for each dataset across the rows, but the actual parameters themselves do vary in each \"top 10\".\n",
    "\n",
    "In order to properly visualise what parameters are within each grouping and what are most sensitive, we need to visualise the set of all parameters across all groupings."
   ]
  },
  {
   "cell_type": "code",
   "execution_count": 10,
   "metadata": {},
   "outputs": [
    {
     "name": "stderr",
     "output_type": "stream",
     "text": [
      "/home/buck06191/virtualenvs/bayescmd/lib/python3.6/site-packages/seaborn/axisgrid.py:715: UserWarning: Using the barplot function without specifying `order` is likely to produce an incorrect plot.\n",
      "  warnings.warn(warning)\n"
     ]
    },
    {
     "data": {
      "text/plain": [
       "Text(0.5, 0.98, 'NaN replaced with zero')"
      ]
     },
     "execution_count": 10,
     "metadata": {},
     "output_type": "execute_result"
    },
    {
     "data": {
      "image/png": "[encoded data removed]",
      "text/plain": [
       "<Figure size 691.2x576 with 2 Axes>"
      ]
     },
     "metadata": {
      "needs_background": "light"
     },
     "output_type": "display_data"
    }
   ],
   "source": [
    "g = sns.FacetGrid(data=combined_zero, col='Dataset', row=\"Output\", sharey=False, subplot_kws={\"xscale\":\"log\"}, height=8, aspect=0.6)\n",
    "g= g.map(sns.barplot, \"mu_star\", \"Parameter\")\n",
    "g.set_xlabels(\"$\\mu_{*}$\")\n",
    "\n",
    "\n",
    "plt.subplots_adjust(top=0.9)\n",
    "g.fig.suptitle('NaN replaced with zero')"
   ]
  },
  {
   "cell_type": "code",
   "execution_count": 11,
   "metadata": {
    "scrolled": false
   },
   "outputs": [],
   "source": [
    "%%capture\n",
    "\n",
    "param_count_zero = pd.DataFrame(combined_zero.groupby(['Output', 'Parameter']).nunique()['mu_star'])"
   ]
  },
  {
   "cell_type": "code",
   "execution_count": 12,
   "metadata": {},
   "outputs": [],
   "source": [
    "import itertools\n",
    "tuple_index = itertools.product(outputs, datasets)"
   ]
  },
  {
   "cell_type": "code",
   "execution_count": 13,
   "metadata": {},
   "outputs": [],
   "source": [
    "index = pd.MultiIndex.from_tuples(list(tuple_index), names=['Output', 'Dataset'])"
   ]
  },
  {
   "cell_type": "code",
   "execution_count": 14,
   "metadata": {},
   "outputs": [],
   "source": [
    "combined_zero_indexed = combined_zero.copy().set_index(['Dataset'])"
   ]
  },
  {
   "cell_type": "code",
   "execution_count": 15,
   "metadata": {},
   "outputs": [],
   "source": [
    "combined_zero_pivoted = pd.pivot_table(combined_zero.copy(), index='Parameter', columns=['Dataset'], values='mu_star')\n"
   ]
  },
  {
   "cell_type": "code",
   "execution_count": 16,
   "metadata": {},
   "outputs": [],
   "source": [
    "combined_zero_pivoted=combined_zero_pivoted.replace(0, np.nan)"
   ]
  },
  {
   "cell_type": "markdown",
   "metadata": {},
   "source": [
    "# Heat map visualisation #\n",
    "\n",
    "In order to fully explore the parameters that have been shown as sensitive by sensitivity analysis, we can viaualise the set of all parameters in the above groupings as a heatmap. The more purple that a parameter is the more sensitive it is.\n",
    "\n",
    "By visualising in this way we can clearly see when a parameter ispresent in multiple datasets and outputs and where it is most sensitive.\n",
    "\n",
    "Columns are aligned such that the 4 datasets are grouped into each output, with the final output being the __TOTAL__."
   ]
  },
  {
   "cell_type": "code",
   "execution_count": 17,
   "metadata": {},
   "outputs": [
    {
     "data": {
      "image/png": "[encoded data removed]",
      "text/plain": [
       "<Figure size 432x720 with 2 Axes>"
      ]
     },
     "metadata": {
      "needs_background": "light"
     },
     "output_type": "display_data"
    }
   ],
   "source": [
    "default_ticker = mpl.ticker.MaxNLocator(20)\n",
    "grid_kws = {\"width_ratios\": (.9, .05), \"hspace\": .3}\n",
    "f, (ax, cbar_ax) = plt.subplots(ncols=2, figsize=(6,10), gridspec_kw=grid_kws)\n",
    "ax = sns.heatmap(combined_zero_pivoted,\n",
    "                 cmap = sns.cubehelix_palette(50, start=-.5, rot=.75),\n",
    "                 square=True,\n",
    "                 linecolor='black',\n",
    "                 linewidth=1,\n",
    "                 ax=ax,\n",
    "                 cbar_ax=cbar_ax,\n",
    "                 cbar_kws={\"orientation\": \"vertical\", \"ticks\": default_ticker})\n",
    "\n",
    "plt.subplots_adjust(top=0.9, wspace=-0.75)\n",
    "f.suptitle('NaN replaced with zero', y=0.93, x = 0.7)\n",
    "ax.collections[0].colorbar.set_label(\"$\\mu_*$\", fontsize=12)\n",
    "\n",
    "f.savefig(\"/home/buck06191/Dropbox/phd/neonate_desat/Figures/sensitivity/neo_zero_sub.png\", transparent=True, bbox_inches = \"tight\", dpi=250)\n",
    "\n",
    "#sns.heatmap(combined_pivoted, cmap = sns.light_palette(\"green\"), square=True, linecolor='black', linewidth=0.2)"
   ]
  },
  {
   "cell_type": "code",
   "execution_count": 21,
   "metadata": {},
   "outputs": [
    {
     "data": {
      "text/plain": [
       "array(['CBFn', 'r_n', 'Xtot_n', 'SaO2_n', 'phi', 'CMRO2_n', 'r_m',\n",
       "       'k_aut', 'Q_10_haemo', 'r_0', 'NADpool', 'P_an', 'a_frac_n',\n",
       "       'pH_on', 'n_m'], dtype=object)"
      ]
     },
     "execution_count": 21,
     "metadata": {},
     "output_type": "execute_result"
    }
   ],
   "source": [
    "combined_zero_indexed['Parameter'].unique()"
   ]
  },
  {
   "cell_type": "markdown",
   "metadata": {},
   "source": [
    "# Choice of Parameters #\n",
    "We decide what parameters to use for fitting based on domain knowledge informed by the above results.\n",
    "A rough guide is to choose parameters that appear in at least 50% of sensitivity results. Additionally, parameters that appear to be important for one output but not other should also be considered. For example, the metabolic submodel is only represented by the CCO output and so if using only the __TOTAL__ output important parameter may not appear. This appears to be the case for *cytox_tot_tis* which appears in all datasets for CCO output, but not for any other output.\n",
    "\n",
    "We can use the `param_count`dataframe created earlier to look at how many times each parameter appears. We can then supplement this with parameters based on domain knowledge."
   ]
  },
  {
   "cell_type": "code",
   "execution_count": 22,
   "metadata": {},
   "outputs": [
    {
     "ename": "NameError",
     "evalue": "name 'combined' is not defined",
     "output_type": "error",
     "traceback": [
      "\u001b[0;31m---------------------------------------------------------------------------\u001b[0m",
      "\u001b[0;31mNameError\u001b[0m                                 Traceback (most recent call last)",
      "\u001b[0;32m<ipython-input-22-117f0edc3735>\u001b[0m in \u001b[0;36m<module>\u001b[0;34m\u001b[0m\n\u001b[1;32m      1\u001b[0m \u001b[0;31m#cutoff = 4*len(outputs)*0.75\u001b[0m\u001b[0;34m\u001b[0m\u001b[0;34m\u001b[0m\u001b[0;34m\u001b[0m\u001b[0m\n\u001b[0;32m----> 2\u001b[0;31m \u001b[0mtotal_count\u001b[0m \u001b[0;34m=\u001b[0m \u001b[0mpd\u001b[0m\u001b[0;34m.\u001b[0m\u001b[0mDataFrame\u001b[0m\u001b[0;34m(\u001b[0m\u001b[0mcombined\u001b[0m\u001b[0;34m.\u001b[0m\u001b[0mgroupby\u001b[0m\u001b[0;34m(\u001b[0m\u001b[0;34m[\u001b[0m\u001b[0;34m'Parameter'\u001b[0m\u001b[0;34m]\u001b[0m\u001b[0;34m)\u001b[0m\u001b[0;34m.\u001b[0m\u001b[0mnunique\u001b[0m\u001b[0;34m(\u001b[0m\u001b[0;34m)\u001b[0m\u001b[0;34m[\u001b[0m\u001b[0;34m'mu_star'\u001b[0m\u001b[0;34m]\u001b[0m\u001b[0;34m)\u001b[0m\u001b[0;34m\u001b[0m\u001b[0;34m\u001b[0m\u001b[0m\n\u001b[0m\u001b[1;32m      3\u001b[0m \u001b[0mtotal_count\u001b[0m\u001b[0;34m.\u001b[0m\u001b[0mrename\u001b[0m\u001b[0;34m(\u001b[0m\u001b[0;34m{\u001b[0m\u001b[0;34m'mu_star'\u001b[0m\u001b[0;34m:\u001b[0m \u001b[0;34m'Param Count'\u001b[0m\u001b[0;34m}\u001b[0m\u001b[0;34m,\u001b[0m \u001b[0maxis\u001b[0m\u001b[0;34m=\u001b[0m\u001b[0;34m'columns'\u001b[0m\u001b[0;34m,\u001b[0m \u001b[0minplace\u001b[0m\u001b[0;34m=\u001b[0m\u001b[0;32mTrue\u001b[0m\u001b[0;34m)\u001b[0m\u001b[0;34m\u001b[0m\u001b[0;34m\u001b[0m\u001b[0m\n\u001b[1;32m      4\u001b[0m \u001b[0mtotal_count\u001b[0m\u001b[0;34m.\u001b[0m\u001b[0msort_values\u001b[0m\u001b[0;34m(\u001b[0m\u001b[0mby\u001b[0m\u001b[0;34m=\u001b[0m\u001b[0;34m'Param Count'\u001b[0m\u001b[0;34m,\u001b[0m \u001b[0mascending\u001b[0m\u001b[0;34m=\u001b[0m\u001b[0;32mFalse\u001b[0m\u001b[0;34m,\u001b[0m \u001b[0minplace\u001b[0m\u001b[0;34m=\u001b[0m\u001b[0;32mTrue\u001b[0m\u001b[0;34m)\u001b[0m\u001b[0;34m\u001b[0m\u001b[0;34m\u001b[0m\u001b[0m\n\u001b[1;32m      5\u001b[0m \u001b[0;34m\u001b[0m\u001b[0m\n",
      "\u001b[0;31mNameError\u001b[0m: name 'combined' is not defined"
     ]
    }
   ],
   "source": [
    "#cutoff = 4*len(outputs)*0.75\n",
    "total_count = pd.DataFrame(combined.groupby(['Parameter']).nunique()['mu_star'])\n",
    "total_count.rename({'mu_star': 'Param Count'}, axis='columns', inplace=True)\n",
    "total_count.sort_values(by='Param Count', ascending=False, inplace=True)\n",
    "\n",
    "f = total_count.plot.bar(figsize=(12,8))\n",
    "# f.axhline(y=cutoff, color='r')"
   ]
  },
  {
   "cell_type": "code",
   "execution_count": 24,
   "metadata": {},
   "outputs": [
    {
     "data": {
      "text/plain": [
       "Text(0, 0.5, 'No. times parameter is present')"
      ]
     },
     "execution_count": 24,
     "metadata": {},
     "output_type": "execute_result"
    },
    {
     "data": {
      "image/png": "[encoded data removed]",
      "text/plain": [
       "<Figure size 864x576 with 1 Axes>"
      ]
     },
     "metadata": {
      "needs_background": "light"
     },
     "output_type": "display_data"
    }
   ],
   "source": [
    "from matplotlib import ticker\n",
    "total_count_zero = pd.DataFrame(combined_zero.groupby(['Parameter']).nunique()['mu_star'])\n",
    "total_count_zero.rename({'mu_star': 'Param Count'}, axis='columns', inplace=True)\n",
    "total_count_zero.sort_values(by='Param Count', ascending=False, inplace=True)\n",
    "\n",
    "f = total_count_zero.plot.bar(figsize=(12,8))\n",
    "ax = plt.gca()\n",
    "ax.yaxis.set_ticks([0,1,2])\n",
    "ax.yaxis.set_major_formatter(ticker.FormatStrFormatter('%d'))\n",
    "ax.set_ylabel('No. times parameter is present')\n",
    "#f.axhline(y=cutoff, color='r')"
   ]
  },
  {
   "cell_type": "code",
   "execution_count": 25,
   "metadata": {},
   "outputs": [],
   "source": [
    "\n",
    "\n",
    "included_parameters_df_zero = total_count_zero.copy()\n",
    "\n",
    "included_parameters_zero = list(included_parameters_df_zero.index)"
   ]
  },
  {
   "cell_type": "code",
   "execution_count": 26,
   "metadata": {},
   "outputs": [
    {
     "data": {
      "text/plain": [
       "['SaO2_n',\n",
       " 'Xtot_n',\n",
       " 'k_aut',\n",
       " 'r_0',\n",
       " 'r_n',\n",
       " 'CBFn',\n",
       " 'CMRO2_n',\n",
       " 'NADpool',\n",
       " 'P_an',\n",
       " 'Q_10_haemo',\n",
       " 'a_frac_n',\n",
       " 'n_m',\n",
       " 'pH_on',\n",
       " 'phi',\n",
       " 'r_m']"
      ]
     },
     "execution_count": 26,
     "metadata": {},
     "output_type": "execute_result"
    }
   ],
   "source": [
    "included_parameters_zero"
   ]
  },
  {
   "cell_type": "markdown",
   "metadata": {},
   "source": [
    "# Final Parameter selection #\n"
   ]
  },
  {
   "cell_type": "markdown",
   "metadata": {},
   "source": [
    "## Zero replacement ##"
   ]
  },
  {
   "cell_type": "code",
   "execution_count": 27,
   "metadata": {},
   "outputs": [
    {
     "name": "stdout",
     "output_type": "stream",
     "text": [
      "{'CBFn',\n",
      " 'CMRO2_n',\n",
      " 'NADpool',\n",
      " 'P_an',\n",
      " 'Q_10_haemo',\n",
      " 'SaO2_n',\n",
      " 'Xtot_n',\n",
      " 'a_frac_n',\n",
      " 'k_aut',\n",
      " 'n_m',\n",
      " 'pH_on',\n",
      " 'phi',\n",
      " 'r_0',\n",
      " 'r_m',\n",
      " 'r_n'}\n"
     ]
    }
   ],
   "source": [
    "final_params_list_zero = set(included_parameters_zero)\n",
    "pprint.pprint(final_params_list_zero)"
   ]
  },
  {
   "cell_type": "code",
   "execution_count": 28,
   "metadata": {},
   "outputs": [
    {
     "data": {
      "text/plain": [
       "15"
      ]
     },
     "execution_count": 28,
     "metadata": {},
     "output_type": "execute_result"
    }
   ],
   "source": [
    "len(final_params_list_zero)"
   ]
  },
  {
   "cell_type": "markdown",
   "metadata": {},
   "source": [
    "Finally, even though it wasn't identified as important by the SA process, the hypothermia model includes $Q_{10}$ as a way of controlling the impact of temperature and this parameter should be included in the fitting process for the purposes of identifying its impact as well as for fitting. Additionally, all piglets are known to have suffered hypoxic ischemic injury and therefore are likely to have suffered some degree of cell death. As a result we should also include the parameter `df` which controls cell death."
   ]
  },
  {
   "cell_type": "code",
   "execution_count": 29,
   "metadata": {},
   "outputs": [],
   "source": [
    "for p in ('Q_10_haemo', 'Q_10_met'):\n",
    "    final_params_list_zero.add(p)"
   ]
  },
  {
   "cell_type": "code",
   "execution_count": 30,
   "metadata": {},
   "outputs": [
    {
     "data": {
      "text/plain": [
       "{'CBFn',\n",
       " 'CMRO2_n',\n",
       " 'NADpool',\n",
       " 'P_an',\n",
       " 'Q_10_haemo',\n",
       " 'Q_10_met',\n",
       " 'SaO2_n',\n",
       " 'Xtot_n',\n",
       " 'a_frac_n',\n",
       " 'k_aut',\n",
       " 'n_m',\n",
       " 'pH_on',\n",
       " 'phi',\n",
       " 'r_0',\n",
       " 'r_m',\n",
       " 'r_n'}"
      ]
     },
     "execution_count": 30,
     "metadata": {},
     "output_type": "execute_result"
    }
   ],
   "source": [
    "final_params_list_zero"
   ]
  },
  {
   "cell_type": "code",
   "execution_count": 37,
   "metadata": {},
   "outputs": [],
   "source": [
    "for p in ('SaO2_n', 'temp_n', 'Pa_CO2n', 'P_an', 'Vol_totn', 'Xtot_n', 'a_frac_n', 'pH_on', 'NADpool'):\n",
    "    try:\n",
    "        final_params_list_zero.remove(p)\n",
    "    except KeyError:\n",
    "        continue"
   ]
  },
  {
   "cell_type": "markdown",
   "metadata": {},
   "source": [
    "As before we need to massively reduce the number of parameters.\n",
    "\n",
    "What we can do is generate a final list that is the intersection of these two version - we should then find parameters that occur in both meaning that they are important without having a good chance of producing NAN results."
   ]
  },
  {
   "cell_type": "code",
   "execution_count": 38,
   "metadata": {},
   "outputs": [
    {
     "name": "stdout",
     "output_type": "stream",
     "text": [
      "{'CBFn',\n",
      " 'CMRO2_n',\n",
      " 'Q_10_haemo',\n",
      " 'Q_10_met',\n",
      " 'k_aut',\n",
      " 'n_m',\n",
      " 'phi',\n",
      " 'r_0',\n",
      " 'r_m',\n",
      " 'r_n'}\n"
     ]
    }
   ],
   "source": [
    "pprint.pprint(final_params_list_zero)"
   ]
  },
  {
   "cell_type": "code",
   "execution_count": 44,
   "metadata": {},
   "outputs": [
    {
     "name": "stdout",
     "output_type": "stream",
     "text": [
      "Final parameter list length is: 10\n"
     ]
    }
   ],
   "source": [
    "print(\"Final parameter list length is: {}\".format(len(final_params_list_zero)))\n",
    "\n",
    "overall_selection = list(final_params_list_zero)"
   ]
  },
  {
   "cell_type": "markdown",
   "metadata": {},
   "source": [
    "# Parameter config creation #"
   ]
  },
  {
   "cell_type": "code",
   "execution_count": 45,
   "metadata": {},
   "outputs": [],
   "source": [
    "def openopt_param_creator(d, f):\n",
    "    \"\"\"Create an input dictionary of uniform parameter priors for openopt.\n",
    "\n",
    "    Parameters\n",
    "    ----------\n",
    "    d : dict\n",
    "        Dictionary of paramaters and their default values.\n",
    "\n",
    "    f : float\n",
    "        Float greater than 0 to define limits of distribution. A value of 0.25\n",
    "        is equivalent to a 25% change either way.\n",
    "\n",
    "    Returns\n",
    "    -------\n",
    "    None\n",
    "        Prints parameter specification to terminal in format compatible with\n",
    "        :module:`optim.py`\n",
    "\n",
    "    \"\"\"\n",
    "    for k, v in d.items():\n",
    "        print('param: {}, {Dist_Type}, {Min:.4f}, {Max:.4f}, {Default:.4f}'.format(k, **v))\n",
    "    return None"
   ]
  },
  {
   "cell_type": "code",
   "execution_count": 48,
   "metadata": {
    "scrolled": false
   },
   "outputs": [],
   "source": [
    "# param_df_1 = pd.read_csv('~/repos/Github/BayesCMD/batch/scratch/pdists_hypothermia.csv',\n",
    "#                        header=None,\n",
    "#                        names=['Parameter', 'Dist_Type',\n",
    "#                               'Min', 'Max', 'Default'],\n",
    "#                         index_col=0)\n",
    "\n",
    "param_df = pd.read_csv('/home/buck06191/repos/Github/neonatal-desat-modelling/bcmd-files/sensitivity/param_files/bp_hypothermia_params.csv',\n",
    "                       header=None,\n",
    "                       names=['Parameter', 'Dist_Type',\n",
    "                              'Min', 'Max', 'Default'],\n",
    "                        index_col=0)\n",
    "\n"
   ]
  },
  {
   "cell_type": "code",
   "execution_count": 49,
   "metadata": {},
   "outputs": [
    {
     "data": {
      "text/plain": [
       "'{\"phi\": [\"uniform\", [0.0288, 0.0432]], \"r_n\": [\"uniform\", [0.01496, 0.02244]], \"r_0\": [\"uniform\", [0.01008, 0.015119999999999998]], \"k_aut\": [\"uniform\", [0.0, 1.0]], \"Q_10_haemo\": [\"uniform\", [0.1, 6.0]], \"n_m\": [\"uniform\", [1.464, 2.1959999999999997]], \"r_m\": [\"uniform\", [0.0216, 0.0324]], \"CBFn\": [\"uniform\", [0.0064, 0.0096]], \"Q_10_met\": [\"uniform\", [0.1, 6.0]], \"CMRO2_n\": [\"uniform\", [0.016, 0.024]]}'"
      ]
     },
     "execution_count": 49,
     "metadata": {},
     "output_type": "execute_result"
    }
   ],
   "source": [
    "import json\n",
    "default_values = param_df.loc[list(overall_selection)].to_dict(orient='index')\n",
    "json.dumps({k: [v['Dist_Type'], [v['Min'], v['Max']]] for k,v in default_values.items()})"
   ]
  },
  {
   "cell_type": "code",
   "execution_count": 50,
   "metadata": {},
   "outputs": [],
   "source": [
    "def latex_table_param_creator(d, f):\n",
    "    \"\"\"Create an input dictionary of uniform parameter priors for openopt.\n",
    "\n",
    "    Parameters\n",
    "    ----------\n",
    "    d : dict\n",
    "        Dictionary of paramaters and their default values.\n",
    "\n",
    "    f : float\n",
    "        Float greater than 0 to define limits of distribution. A value of 0.25\n",
    "        is equivalent to a 25% change either way.\n",
    "\n",
    "    Returns\n",
    "    -------\n",
    "    None\n",
    "        Prints parameter specification to terminal in format compatible with\n",
    "        :module:`optim.py`\n",
    "\n",
    "    \"\"\"\n",
    "    print(r\"\"\"\\begin{table}[htbp]\n",
    "\\centering\n",
    "\\begin{tabular}{@{}l|l|l|l@{}}\n",
    "\\toprule\n",
    "Parameter        & Min. Value & Max. Value & Default Value \\\\ \\midrule\n",
    "    \"\"\")\n",
    "    for k, v in d.items():\n",
    "        print('{} & {Min:.4f} & {Max:.4f} & {Default:.4f}\\\\\\\\'.format(k.replace('_', '\\\\_'), **v))\n",
    "    print(r\"\"\"\n",
    "\\bottomrule\n",
    "\\end{tabular}\n",
    "\\caption{Table showing final sensitivity analysis parameters for model BPH2.}\\label{tab:bph2_SA}\n",
    "\\end{table}\n",
    "    \"\"\")\n",
    "    return None"
   ]
  },
  {
   "cell_type": "code",
   "execution_count": 51,
   "metadata": {
    "scrolled": true
   },
   "outputs": [
    {
     "name": "stdout",
     "output_type": "stream",
     "text": [
      "\\begin{table}[htbp]\n",
      "\\centering\n",
      "\\begin{tabular}{@{}l|l|l|l@{}}\n",
      "\\toprule\n",
      "Parameter        & Min. Value & Max. Value & Default Value \\\\ \\midrule\n",
      "    \n",
      "phi & 0.0288 & 0.0432 & 0.0360\\\\\n",
      "r\\_n & 0.0150 & 0.0224 & 0.0187\\\\\n",
      "r\\_0 & 0.0101 & 0.0151 & 0.0126\\\\\n",
      "k\\_aut & 0.0000 & 1.0000 & 1.0000\\\\\n",
      "Q\\_10\\_haemo & 0.1000 & 6.0000 & 2.4000\\\\\n",
      "n\\_m & 1.4640 & 2.1960 & 1.8300\\\\\n",
      "r\\_m & 0.0216 & 0.0324 & 0.0270\\\\\n",
      "CBFn & 0.0064 & 0.0096 & 0.0080\\\\\n",
      "Q\\_10\\_met & 0.1000 & 6.0000 & 2.4000\\\\\n",
      "CMRO2\\_n & 0.0160 & 0.0240 & 0.0200\\\\\n",
      "\n",
      "\\bottomrule\n",
      "\\end{tabular}\n",
      "\\caption{Table showing final sensitivity analysis parameters for model BPH2.}\\label{tab:bph2_SA}\n",
      "\\end{table}\n",
      "    \n"
     ]
    }
   ],
   "source": [
    "latex_table_param_creator(default_values, 0.5)"
   ]
  },
  {
   "cell_type": "code",
   "execution_count": null,
   "metadata": {},
   "outputs": [],
   "source": []
  },
  {
   "cell_type": "code",
   "execution_count": null,
   "metadata": {},
   "outputs": [],
   "source": []
  }
 ],
 "metadata": {
  "kernelspec": {
   "display_name": "Python 3",
   "language": "python",
   "name": "python3"
  },
  "language_info": {
   "codemirror_mode": {
    "name": "ipython",
    "version": 3
   },
   "file_extension": ".py",
   "mimetype": "text/x-python",
   "name": "python",
   "nbconvert_exporter": "python",
   "pygments_lexer": "ipython3",
   "version": "3.6.6"
  }
 },
 "nbformat": 4,
 "nbformat_minor": 2
}
