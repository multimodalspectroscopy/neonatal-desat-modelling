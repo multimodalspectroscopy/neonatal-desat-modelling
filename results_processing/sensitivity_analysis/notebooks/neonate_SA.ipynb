{
 "cells": [
  {
   "cell_type": "code",
   "execution_count": 1,
   "metadata": {},
   "outputs": [],
   "source": [
    "import pandas as pd\n",
    "import numpy as np\n",
    "import os\n",
    "import seaborn as sns\n",
    "\n",
    "import matplotlib.pyplot as plt\n",
    "import pprint\n",
    "\n",
    "import matplotlib as mpl\n",
    "from PIL import Image\n",
    "from io import BytesIO\n",
    "mpl.rc('figure', dpi=400, figsize=(12,8))\n",
    "\n",
    "\n",
    "%matplotlib inline"
   ]
  },
  {
   "cell_type": "code",
   "execution_count": 2,
   "metadata": {},
   "outputs": [],
   "source": [
    "def TIFF_exporter(fig, fname, fig_dir = '.'):\n",
    "    \"\"\"\n",
    "    Parameters\n",
    "    ----------\n",
    "    fig: matplotlib figure\n",
    "    \"\"\"\n",
    "    \n",
    "    # save figure\n",
    "    # (1) save the image in memory in PNG format\n",
    "    png1 = BytesIO()\n",
    "    fig.savefig(png1, format='png', bbox_inches='tight', dpi=350)\n",
    "\n",
    "    # (2) load this image into PIL\n",
    "    png2 = Image.open(png1)\n",
    "\n",
    "    # (3) save as TIFF\n",
    "    png2.save(os.path.join(fig_dir,'{}.tiff'.format(fname)))\n",
    "    png1.close()\n",
    "    return True"
   ]
  },
  {
   "cell_type": "code",
   "execution_count": 3,
   "metadata": {},
   "outputs": [],
   "source": [
    "def data_import_and_clean(dataset):\n",
    "    df = pd.read_csv('../../../data/SA_results/{}/sensitivities.txt'.format(dataset), sep='\\t')\n",
    "    for p in (['u', 'P_a', 'SaO2sup', 'Pa_CO2', 'temp']):    \n",
    "        df = df.query(\"Parameter!='{}'\".format(p))\n",
    "    df_zero = pd.read_csv('../../../data/SA_results/{}_zero/sensitivities.txt'.format(dataset), sep='\\t')\n",
    "    for p in (['u', 'P_a', 'SaO2sup', 'Pa_CO2', 'temp']):    \n",
    "        df_zero = df_zero.query(\"Parameter!='{}'\".format(p))\n",
    "    return df, df_zero"
   ]
  },
  {
   "cell_type": "code",
   "execution_count": 4,
   "metadata": {},
   "outputs": [],
   "source": [
    "datasets = ['neo007', 'neo021']\n",
    "df_dict = {}\n",
    "df_zero_dict = {}\n",
    "for dataset in datasets:\n",
    "    df_dict[dataset], df_zero_dict[dataset] = data_import_and_clean(dataset)"
   ]
  },
  {
   "cell_type": "code",
   "execution_count": 5,
   "metadata": {},
   "outputs": [],
   "source": [
    "title_dict = {\"TOTAL\": \"all outputs\", \"CCO\": \"CCO\", \"HbT\": \"HbT\", \"Hbdiff\": \"HbD\"}\n",
    "\n",
    "def sensitivity(df, output, title_dict=None):      \n",
    "    params = [\"Parameter\", output+\"_mu_star\", output+\"_mu_star_conf\", output+\"_sigma\"]\n",
    "    sens = df[params]\n",
    "    sens = sens.rename(columns={output+\"_mu_star\": \"mu_star\", output+\"_sigma\": \"sigma\", output+\"_mu_star_conf\": \"mu_star_conf\"})\n",
    "    sens.sort_values(by=\"mu_star\", ascending=False, inplace=True)\n",
    "    sens_head = sens.head(10)\n",
    "    with sns.plotting_context(\"talk\"):\n",
    "        fig, ax = plt.subplots(nrows=1, ncols=1,figsize=(6,6))\n",
    "\n",
    "        ax.set(xscale=\"log\", yscale=\"log\")\n",
    "        plt.grid(True, linestyle=':')\n",
    "        ax = sns.scatterplot(x=\"mu_star\", y=\"sigma\", data=sens_head, ax=ax, hue=\"Parameter\")\n",
    "        ax.set_ylabel(\"$\\sigma$\")\n",
    "        ax.set_xlabel(\"$\\mu_{*}$\")\n",
    "        if title_dict:\n",
    "            ax.set_title(\"Sensitivity for {}\".format(title_dict[output]))\n",
    "\n",
    "        lgd = ax.legend(loc=\"upper right\", bbox_to_anchor=(1.55, 1))\n",
    "\n",
    "    \n",
    "    return fig, ax, lgd, sens_head"
   ]
  },
  {
   "cell_type": "code",
   "execution_count": 6,
   "metadata": {},
   "outputs": [
    {
     "name": "stdout",
     "output_type": "stream",
     "text": [
      "Working on Hbdiff in neo007 - large\n",
      "Working on Hbdiff in neo007 - zero\n",
      "Working on Hbdiff in neo021 - large\n",
      "Working on Hbdiff in neo021 - zero\n"
     ]
    }
   ],
   "source": [
    "sim_data = {}\n",
    "sim_data_zero = {}\n",
    "outputs = [\"Hbdiff\"]\n",
    "for output in outputs:\n",
    "    sim_data[output] = {}\n",
    "    sim_data_zero[output]={}\n",
    "    for dataset in datasets:\n",
    "        print(\"Working on {} in {} - large\". format(output, dataset))\n",
    "        fig, ax, lgd, d = sensitivity(df_dict[dataset], output, title_dict=title_dict)\n",
    "        sim_data[output][dataset]= d\n",
    "        print(\"Working on {} in {} - zero\". format(output, dataset))\n",
    "        fig, ax, lgd, d_zero = sensitivity(df_zero_dict[dataset], output, title_dict=title_dict)\n",
    "        sim_data_zero[output][dataset]= d_zero\n",
    "plt.close('all')"
   ]
  },
  {
   "cell_type": "raw",
   "metadata": {},
   "source": []
  },
  {
   "cell_type": "markdown",
   "metadata": {},
   "source": [
    "# Combined data #\n"
   ]
  },
  {
   "cell_type": "code",
   "execution_count": 7,
   "metadata": {},
   "outputs": [],
   "source": [
    "%%capture\n",
    "l = []\n",
    "for output in outputs:\n",
    "    for k, d in sim_data[output].items():\n",
    "        print(\"{} - {}\".format(output, k))\n",
    "        print(d.columns)\n",
    "        d['Neonate'] = k\n",
    "        d['Output'] = output\n",
    "        l.append(d)\n",
    "                \n",
    "combined = pd.concat(l, sort=False)"
   ]
  },
  {
   "cell_type": "code",
   "execution_count": 8,
   "metadata": {},
   "outputs": [],
   "source": [
    "%%capture\n",
    "l_zero = []\n",
    "for output in outputs:\n",
    "    for k, d in sim_data_zero[output].items():\n",
    "        print(\"{} - {}\".format(output, k))\n",
    "        print(d.columns)\n",
    "        d['Neonate'] = k\n",
    "        d['Output'] = output\n",
    "        l_zero.append(d)\n",
    "                \n",
    "combined_zero = pd.concat(l_zero, sort=False)\n"
   ]
  },
  {
   "cell_type": "markdown",
   "metadata": {},
   "source": [
    "# Sensitivity Results as Scatter Plot #\n",
    "\n",
    "Here we visualise $\\mu_{*}$ again $\\sigma$ for each dataset and output for the top 30 most sensitive parameters in each grouping. \n",
    "Legends for each grap hare turned off for neatness here - we're simply looking at the relationship  between $\\mu_{*}$ and $\\sigma$ rather than what it means for a particular variable. \n",
    "\n",
    "All graphs show a roughly linear relationship with the __TOTAL__ output being clustered towards higher $\\mu_{*}$ values than the individual outputs."
   ]
  },
  {
   "cell_type": "code",
   "execution_count": 9,
   "metadata": {},
   "outputs": [
    {
     "data": {
      "text/plain": [
       "Text(0.5, 0.98, 'NaN replaced with zero')"
      ]
     },
     "execution_count": 9,
     "metadata": {},
     "output_type": "execute_result"
    },
    {
     "data": {
      "image/png": "[encoded data removed]",
      "text/plain": [
       "<Figure size 720x360 with 2 Axes>"
      ]
     },
     "metadata": {
      "needs_background": "light"
     },
     "output_type": "display_data"
    }
   ],
   "source": [
    "g = sns.FacetGrid(data=combined_zero, col='Neonate', row=\"Output\", hue=\"Parameter\", subplot_kws={\"xscale\":\"log\", \"yscale\":\"log\"}, height=5)\n",
    "g = g.map(sns.scatterplot, \"mu_star\", \"sigma\")\n",
    "g.set_xlabels(\"$\\mu_{*}$\")\n",
    "g.set_ylabels(\"$\\sigma$\")\n",
    "\n",
    "plt.subplots_adjust(top=0.8)\n",
    "g.fig.suptitle('NaN replaced with zero')"
   ]
  },
  {
   "cell_type": "markdown",
   "metadata": {},
   "source": [
    "# $\\mu_{*}$ values as a bar chart # \n",
    "\n",
    "We can look at what parameters are within the top 20 for each grouping and also at their respective values. All graphs share an x axis and so can be compared directly down columns and across rows. The x-axis is on a log scale.\n",
    "\n",
    "We see that the  __TOTAL__ output shows a small amount of drop off as the parameter becomes less sensitive than most other outputs. We also see simliar patterns for each dataset across the rows, but the actual parameters themselves do vary in each \"top 10\".\n",
    "\n",
    "In order to properly visualise what parameters are within each grouping and what are most sensitive, we need to visualise the set of all parameters across all groupings."
   ]
  },
  {
   "cell_type": "code",
   "execution_count": 10,
   "metadata": {},
   "outputs": [
    {
     "name": "stderr",
     "output_type": "stream",
     "text": [
      "/home/buck06191/virtualenvs/bayescmd/lib/python3.6/site-packages/seaborn/axisgrid.py:715: UserWarning: Using the barplot function without specifying `order` is likely to produce an incorrect plot.\n",
      "  warnings.warn(warning)\n"
     ]
    },
    {
     "data": {
      "image/png": "[encoded data removed]",
      "text/plain": [
       "<Figure size 691.2x576 with 2 Axes>"
      ]
     },
     "metadata": {
      "needs_background": "light"
     },
     "output_type": "display_data"
    }
   ],
   "source": [
    "g = sns.FacetGrid(data=combined_zero, col='Neonate', hue='Neonate', row=\"Output\", sharey=False, sharex=True, subplot_kws={\"xscale\":\"log\"}, height=8, aspect=0.6)\n",
    "g= g.map(sns.barplot, \"mu_star\", \"Parameter\")\n",
    "g.set_xlabels(\"$\\mu_{*}$\", fontsize=12)\n",
    "\n",
    "\n",
    "plt.subplots_adjust(top=0.9)\n",
    "g.savefig(\"/home/buck06191/Dropbox/phd/desat_neonate/sensitivity/neo_zero_barchart.png\", transparent=True, bbox_inches = \"tight\", dpi=250)\n"
   ]
  },
  {
   "cell_type": "code",
   "execution_count": 11,
   "metadata": {
    "scrolled": false
   },
   "outputs": [],
   "source": [
    "%%capture\n",
    "\n",
    "param_count_zero = pd.DataFrame(combined_zero.groupby(['Output', 'Parameter']).nunique()['mu_star'])"
   ]
  },
  {
   "cell_type": "code",
   "execution_count": 12,
   "metadata": {},
   "outputs": [],
   "source": [
    "import itertools\n",
    "tuple_index = itertools.product(outputs, datasets)"
   ]
  },
  {
   "cell_type": "code",
   "execution_count": 13,
   "metadata": {},
   "outputs": [],
   "source": [
    "index = pd.MultiIndex.from_tuples(list(tuple_index), names=['Output', 'Dataset'])"
   ]
  },
  {
   "cell_type": "code",
   "execution_count": 14,
   "metadata": {},
   "outputs": [],
   "source": [
    "combined_zero_indexed = combined_zero.copy().set_index(['Neonate'])"
   ]
  },
  {
   "cell_type": "code",
   "execution_count": 15,
   "metadata": {},
   "outputs": [],
   "source": [
    "combined_zero_pivoted = pd.pivot_table(combined_zero.copy(), index='Parameter', columns=['Neonate'], values='mu_star')\n"
   ]
  },
  {
   "cell_type": "code",
   "execution_count": 16,
   "metadata": {},
   "outputs": [],
   "source": [
    "combined_zero_pivoted=combined_zero_pivoted.replace(0, np.nan)"
   ]
  },
  {
   "cell_type": "markdown",
   "metadata": {},
   "source": [
    "# Heat map visualisation #\n",
    "\n",
    "In order to fully explore the parameters that have been shown as sensitive by sensitivity analysis, we can viaualise the set of all parameters in the above groupings as a heatmap. The more purple that a parameter is the more sensitive it is.\n",
    "\n",
    "By visualising in this way we can clearly see when a parameter ispresent in multiple datasets and outputs and where it is most sensitive.\n",
    "\n",
    "Columns are aligned such that the 4 datasets are grouped into each output, with the final output being the __TOTAL__."
   ]
  },
  {
   "cell_type": "code",
   "execution_count": 69,
   "metadata": {},
   "outputs": [
    {
     "data": {
      "image/png": "[encoded data removed]",
      "text/plain": [
       "<Figure size 720x360 with 2 Axes>"
      ]
     },
     "metadata": {},
     "output_type": "display_data"
    }
   ],
   "source": [
    "sns.set(font_scale=1.25)\n",
    "default_ticker = mpl.ticker.MaxNLocator(10)\n",
    "grid_kws = {\"height_ratios\": (.6, .05), \"hspace\": 0.75}\n",
    "f, (ax, cbar_ax) = plt.subplots(nrows=2, figsize=(10,5), gridspec_kw=grid_kws)\n",
    "ax = sns.heatmap(combined_zero_pivoted.T,\n",
    "                 cmap = sns.cubehelix_palette(50, start=-.5, rot=.75),\n",
    "                 square=True,\n",
    "                 annot=True,\n",
    "                 linecolor='black',\n",
    "                 linewidth=1,\n",
    "                 ax=ax,\n",
    "                 cbar_ax=cbar_ax,\n",
    "                 cbar_kws={\"orientation\": \"horizontal\", \"ticks\": default_ticker})\n",
    "\n",
    "plt.subplots_adjust(top=0.9, hspace=1)\n",
    "# f.suptitle('NaN replaced with zero', y=0.93, x = 0.7)\n",
    "ax.collections[0].colorbar.set_label(\"$\\mu_*$\", fontsize=12)\n",
    "\n",
    "f.savefig(\"/home/buck06191/Dropbox/phd/desat_neonate/sensitivity/neo_zero_heatmap.png\", transparent=True, bbox_inches = \"tight\", dpi=250)\n",
    "\n",
    "#sns.heatmap(combined_pivoted, cmap = sns.light_palette(\"green\"), square=True, linecolor='black', linewidth=0.2)"
   ]
  },
  {
   "cell_type": "code",
   "execution_count": 18,
   "metadata": {},
   "outputs": [
    {
     "data": {
      "text/plain": [
       "array(['CBFn', 'r_n', 'Xtot_n', 'SaO2_n', 'phi', 'CMRO2_n', 'r_m',\n",
       "       'k_aut', 'Q_10_haemo', 'r_0', 'NADpool', 'P_an', 'a_frac_n',\n",
       "       'pH_on', 'n_m'], dtype=object)"
      ]
     },
     "execution_count": 18,
     "metadata": {},
     "output_type": "execute_result"
    }
   ],
   "source": [
    "combined_zero_indexed['Parameter'].unique()"
   ]
  },
  {
   "cell_type": "markdown",
   "metadata": {},
   "source": [
    "# Choice of Parameters #\n",
    "We decide what parameters to use for fitting based on domain knowledge informed by the above results.\n",
    "A rough guide is to choose parameters that appear in at least 50% of sensitivity results. Additionally, parameters that appear to be important for one output but not other should also be considered. For example, the metabolic submodel is only represented by the CCO output and so if using only the __TOTAL__ output important parameter may not appear. This appears to be the case for *cytox_tot_tis* which appears in all datasets for CCO output, but not for any other output.\n",
    "\n",
    "We can use the `param_count`dataframe created earlier to look at how many times each parameter appears. We can then supplement this with parameters based on domain knowledge."
   ]
  },
  {
   "cell_type": "code",
   "execution_count": 19,
   "metadata": {},
   "outputs": [
    {
     "data": {
      "image/png": "[encoded data removed]",
      "text/plain": [
       "<Figure size 864x576 with 1 Axes>"
      ]
     },
     "metadata": {
      "needs_background": "light"
     },
     "output_type": "display_data"
    }
   ],
   "source": [
    "#cutoff = 4*len(outputs)*0.75\n",
    "total_count = pd.DataFrame(combined.groupby(['Parameter']).nunique()['mu_star'])\n",
    "total_count.rename({'mu_star': 'Param Count'}, axis='columns', inplace=True)\n",
    "total_count.sort_values(by='Param Count', ascending=False, inplace=True)\n",
    "\n",
    "f = total_count.plot.bar(figsize=(12,8))\n",
    "# f.axhline(y=cutoff, color='r')"
   ]
  },
  {
   "cell_type": "code",
   "execution_count": 20,
   "metadata": {},
   "outputs": [
    {
     "data": {
      "text/plain": [
       "Text(0, 0.5, 'No. times parameter is present')"
      ]
     },
     "execution_count": 20,
     "metadata": {},
     "output_type": "execute_result"
    },
    {
     "data": {
      "image/png": "[encoded data removed]",
      "text/plain": [
       "<Figure size 864x576 with 1 Axes>"
      ]
     },
     "metadata": {
      "needs_background": "light"
     },
     "output_type": "display_data"
    }
   ],
   "source": [
    "from matplotlib import ticker\n",
    "total_count_zero = pd.DataFrame(combined_zero.groupby(['Parameter']).nunique()['mu_star'])\n",
    "total_count_zero.rename({'mu_star': 'Param Count'}, axis='columns', inplace=True)\n",
    "total_count_zero.sort_values(by='Param Count', ascending=False, inplace=True)\n",
    "\n",
    "f = total_count_zero.plot.bar(figsize=(12,8))\n",
    "ax = plt.gca()\n",
    "ax.yaxis.set_ticks([0,1,2])\n",
    "ax.yaxis.set_major_formatter(ticker.FormatStrFormatter('%d'))\n",
    "ax.set_ylabel('No. times parameter is present')\n",
    "#f.axhline(y=cutoff, color='r')"
   ]
  },
  {
   "cell_type": "code",
   "execution_count": 21,
   "metadata": {},
   "outputs": [],
   "source": [
    "\n",
    "\n",
    "included_parameters_df_zero = total_count_zero.copy()\n",
    "\n",
    "included_parameters_zero = list(included_parameters_df_zero.index)"
   ]
  },
  {
   "cell_type": "code",
   "execution_count": 22,
   "metadata": {},
   "outputs": [
    {
     "data": {
      "text/plain": [
       "['SaO2_n',\n",
       " 'Xtot_n',\n",
       " 'k_aut',\n",
       " 'r_0',\n",
       " 'r_n',\n",
       " 'CBFn',\n",
       " 'CMRO2_n',\n",
       " 'NADpool',\n",
       " 'P_an',\n",
       " 'Q_10_haemo',\n",
       " 'a_frac_n',\n",
       " 'n_m',\n",
       " 'pH_on',\n",
       " 'phi',\n",
       " 'r_m']"
      ]
     },
     "execution_count": 22,
     "metadata": {},
     "output_type": "execute_result"
    }
   ],
   "source": [
    "included_parameters_zero"
   ]
  },
  {
   "cell_type": "markdown",
   "metadata": {},
   "source": [
    "# Final Parameter selection #\n"
   ]
  },
  {
   "cell_type": "markdown",
   "metadata": {},
   "source": [
    "## Zero replacement ##"
   ]
  },
  {
   "cell_type": "code",
   "execution_count": 23,
   "metadata": {},
   "outputs": [
    {
     "name": "stdout",
     "output_type": "stream",
     "text": [
      "{'CBFn',\n",
      " 'CMRO2_n',\n",
      " 'NADpool',\n",
      " 'P_an',\n",
      " 'Q_10_haemo',\n",
      " 'SaO2_n',\n",
      " 'Xtot_n',\n",
      " 'a_frac_n',\n",
      " 'k_aut',\n",
      " 'n_m',\n",
      " 'pH_on',\n",
      " 'phi',\n",
      " 'r_0',\n",
      " 'r_m',\n",
      " 'r_n'}\n"
     ]
    }
   ],
   "source": [
    "final_params_list_zero = set(included_parameters_zero)\n",
    "pprint.pprint(final_params_list_zero)"
   ]
  },
  {
   "cell_type": "code",
   "execution_count": 24,
   "metadata": {},
   "outputs": [
    {
     "data": {
      "text/plain": [
       "15"
      ]
     },
     "execution_count": 24,
     "metadata": {},
     "output_type": "execute_result"
    }
   ],
   "source": [
    "len(final_params_list_zero)"
   ]
  },
  {
   "cell_type": "markdown",
   "metadata": {},
   "source": [
    "Finally, even though it wasn't identified as important by the SA process, the hypothermia model includes $Q_{10}$ as a way of controlling the impact of temperature and this parameter should be included in the fitting process for the purposes of identifying its impact as well as for fitting. Additionally, all piglets are known to have suffered hypoxic ischemic injury and therefore are likely to have suffered some degree of cell death. As a result we should also include the parameter `df` which controls cell death."
   ]
  },
  {
   "cell_type": "code",
   "execution_count": 25,
   "metadata": {},
   "outputs": [],
   "source": [
    "for p in ('Q_10_haemo', 'Q_10_met'):\n",
    "    final_params_list_zero.add(p)"
   ]
  },
  {
   "cell_type": "code",
   "execution_count": 26,
   "metadata": {},
   "outputs": [
    {
     "data": {
      "text/plain": [
       "{'CBFn',\n",
       " 'CMRO2_n',\n",
       " 'NADpool',\n",
       " 'P_an',\n",
       " 'Q_10_haemo',\n",
       " 'Q_10_met',\n",
       " 'SaO2_n',\n",
       " 'Xtot_n',\n",
       " 'a_frac_n',\n",
       " 'k_aut',\n",
       " 'n_m',\n",
       " 'pH_on',\n",
       " 'phi',\n",
       " 'r_0',\n",
       " 'r_m',\n",
       " 'r_n'}"
      ]
     },
     "execution_count": 26,
     "metadata": {},
     "output_type": "execute_result"
    }
   ],
   "source": [
    "final_params_list_zero"
   ]
  },
  {
   "cell_type": "code",
   "execution_count": 27,
   "metadata": {},
   "outputs": [],
   "source": [
    "for p in ('SaO2_n', 'temp_n', 'Pa_CO2n', 'P_an', 'Vol_totn', 'Xtot_n', 'a_frac_n', 'pH_on', 'NADpool'):\n",
    "    try:\n",
    "        final_params_list_zero.remove(p)\n",
    "    except KeyError:\n",
    "        continue"
   ]
  },
  {
   "cell_type": "markdown",
   "metadata": {},
   "source": [
    "As before we need to massively reduce the number of parameters.\n",
    "\n",
    "What we can do is generate a final list that is the intersection of these two version - we should then find parameters that occur in both meaning that they are important without having a good chance of producing NAN results."
   ]
  },
  {
   "cell_type": "code",
   "execution_count": 28,
   "metadata": {},
   "outputs": [
    {
     "name": "stdout",
     "output_type": "stream",
     "text": [
      "{'CBFn',\n",
      " 'CMRO2_n',\n",
      " 'Q_10_haemo',\n",
      " 'Q_10_met',\n",
      " 'k_aut',\n",
      " 'n_m',\n",
      " 'phi',\n",
      " 'r_0',\n",
      " 'r_m',\n",
      " 'r_n'}\n"
     ]
    }
   ],
   "source": [
    "pprint.pprint(final_params_list_zero)"
   ]
  },
  {
   "cell_type": "code",
   "execution_count": 29,
   "metadata": {},
   "outputs": [
    {
     "name": "stdout",
     "output_type": "stream",
     "text": [
      "Final parameter list length is: 10\n"
     ]
    }
   ],
   "source": [
    "print(\"Final parameter list length is: {}\".format(len(final_params_list_zero)))\n",
    "\n",
    "overall_selection = list(final_params_list_zero)"
   ]
  },
  {
   "cell_type": "markdown",
   "metadata": {},
   "source": [
    "# Parameter config creation #"
   ]
  },
  {
   "cell_type": "code",
   "execution_count": 30,
   "metadata": {},
   "outputs": [],
   "source": [
    "def openopt_param_creator(d, f):\n",
    "    \"\"\"Create an input dictionary of uniform parameter priors for openopt.\n",
    "\n",
    "    Parameters\n",
    "    ----------\n",
    "    d : dict\n",
    "        Dictionary of paramaters and their default values.\n",
    "\n",
    "    f : float\n",
    "        Float greater than 0 to define limits of distribution. A value of 0.25\n",
    "        is equivalent to a 25% change either way.\n",
    "\n",
    "    Returns\n",
    "    -------\n",
    "    None\n",
    "        Prints parameter specification to terminal in format compatible with\n",
    "        :module:`optim.py`\n",
    "\n",
    "    \"\"\"\n",
    "    for k, v in d.items():\n",
    "        print('param: {}, {Dist_Type}, {Min:.4f}, {Max:.4f}, {Default:.4f}'.format(k, **v))\n",
    "    return None"
   ]
  },
  {
   "cell_type": "code",
   "execution_count": 31,
   "metadata": {
    "scrolled": false
   },
   "outputs": [],
   "source": [
    "# param_df_1 = pd.read_csv('~/repos/Github/BayesCMD/batch/scratch/pdists_hypothermia.csv',\n",
    "#                        header=None,\n",
    "#                        names=['Parameter', 'Dist_Type',\n",
    "#                               'Min', 'Max', 'Default'],\n",
    "#                         index_col=0)\n",
    "\n",
    "param_df = pd.read_csv('/home/buck06191/repos/Github/neonatal-desat-modelling/bcmd-files/sensitivity/param_files/bp_hypothermia_params.csv',\n",
    "                       header=None,\n",
    "                       names=['Parameter', 'Dist_Type',\n",
    "                              'Min', 'Max', 'Default'],\n",
    "                        index_col=0)\n",
    "\n"
   ]
  },
  {
   "cell_type": "code",
   "execution_count": 32,
   "metadata": {},
   "outputs": [
    {
     "data": {
      "text/plain": [
       "'{\"r_n\": [\"uniform\", [0.01496, 0.02244]], \"n_m\": [\"uniform\", [1.464, 2.1959999999999997]], \"Q_10_haemo\": [\"uniform\", [0.1, 6.0]], \"r_0\": [\"uniform\", [0.01008, 0.015119999999999998]], \"Q_10_met\": [\"uniform\", [0.1, 6.0]], \"CMRO2_n\": [\"uniform\", [0.016, 0.024]], \"r_m\": [\"uniform\", [0.0216, 0.0324]], \"phi\": [\"uniform\", [0.0288, 0.0432]], \"k_aut\": [\"uniform\", [0.0, 1.0]], \"CBFn\": [\"uniform\", [0.0064, 0.0096]]}'"
      ]
     },
     "execution_count": 32,
     "metadata": {},
     "output_type": "execute_result"
    }
   ],
   "source": [
    "import json\n",
    "default_values = param_df.loc[list(overall_selection)].to_dict(orient='index')\n",
    "json.dumps({k: [v['Dist_Type'], [v['Min'], v['Max']]] for k,v in default_values.items()})"
   ]
  },
  {
   "cell_type": "code",
   "execution_count": 33,
   "metadata": {},
   "outputs": [],
   "source": [
    "def latex_table_param_creator(d, f):\n",
    "    \"\"\"Create an input dictionary of uniform parameter priors for openopt.\n",
    "\n",
    "    Parameters\n",
    "    ----------\n",
    "    d : dict\n",
    "        Dictionary of paramaters and their default values.\n",
    "\n",
    "    f : float\n",
    "        Float greater than 0 to define limits of distribution. A value of 0.25\n",
    "        is equivalent to a 25% change either way.\n",
    "\n",
    "    Returns\n",
    "    -------\n",
    "    None\n",
    "        Prints parameter specification to terminal in format compatible with\n",
    "        :module:`optim.py`\n",
    "\n",
    "    \"\"\"\n",
    "    print(r\"\"\"\\begin{table}[htbp]\n",
    "\\centering\n",
    "\\begin{tabular}{@{}l|l|l|l@{}}\n",
    "\\toprule\n",
    "Parameter        & Min. Value & Max. Value & Default Value \\\\ \\midrule\n",
    "    \"\"\")\n",
    "    for k, v in d.items():\n",
    "        print('{} & {Min:.4f} & {Max:.4f} & {Default:.4f}\\\\\\\\'.format(k.replace('_', '\\\\_'), **v))\n",
    "    print(r\"\"\"\n",
    "\\bottomrule\n",
    "\\end{tabular}\n",
    "\\caption{Table showing final sensitivity analysis parameters for noenatal desaturation data.}\\label{tab:desat_neonate_SA}\n",
    "\\end{table}\n",
    "    \"\"\")\n",
    "    return None"
   ]
  },
  {
   "cell_type": "code",
   "execution_count": 34,
   "metadata": {
    "scrolled": true
   },
   "outputs": [
    {
     "name": "stdout",
     "output_type": "stream",
     "text": [
      "\\begin{table}[htbp]\n",
      "\\centering\n",
      "\\begin{tabular}{@{}l|l|l|l@{}}\n",
      "\\toprule\n",
      "Parameter        & Min. Value & Max. Value & Default Value \\\\ \\midrule\n",
      "    \n",
      "r\\_n & 0.0150 & 0.0224 & 0.0187\\\\\n",
      "n\\_m & 1.4640 & 2.1960 & 1.8300\\\\\n",
      "Q\\_10\\_haemo & 0.1000 & 6.0000 & 2.4000\\\\\n",
      "r\\_0 & 0.0101 & 0.0151 & 0.0126\\\\\n",
      "Q\\_10\\_met & 0.1000 & 6.0000 & 2.4000\\\\\n",
      "CMRO2\\_n & 0.0160 & 0.0240 & 0.0200\\\\\n",
      "r\\_m & 0.0216 & 0.0324 & 0.0270\\\\\n",
      "phi & 0.0288 & 0.0432 & 0.0360\\\\\n",
      "k\\_aut & 0.0000 & 1.0000 & 1.0000\\\\\n",
      "CBFn & 0.0064 & 0.0096 & 0.0080\\\\\n",
      "\n",
      "\\bottomrule\n",
      "\\end{tabular}\n",
      "\\caption{Table showing final sensitivity analysis parameters for noenatal desaturation data.}\\label{tab:desat_neonate_SA}\n",
      "\\end{table}\n",
      "    \n"
     ]
    }
   ],
   "source": [
    "latex_table_param_creator(default_values, 0.5)"
   ]
  },
  {
   "cell_type": "code",
   "execution_count": null,
   "metadata": {},
   "outputs": [],
   "source": []
  },
  {
   "cell_type": "code",
   "execution_count": null,
   "metadata": {},
   "outputs": [],
   "source": []
  }
 ],
 "metadata": {
  "kernelspec": {
   "display_name": "Python 3",
   "language": "python",
   "name": "python3"
  },
  "language_info": {
   "codemirror_mode": {
    "name": "ipython",
    "version": 3
   },
   "file_extension": ".py",
   "mimetype": "text/x-python",
   "name": "python",
   "nbconvert_exporter": "python",
   "pygments_lexer": "ipython3",
   "version": "3.6.6"
  }
 },
 "nbformat": 4,
 "nbformat_minor": 2
}
